{
 "cells": [
  {
   "cell_type": "markdown",
   "metadata": {
    "id": "mLHdf2V3rYEa"
   },
   "source": [
    "# [МГУ_2021_2] Тарасенко Ю."
   ]
  },
  {
   "cell_type": "markdown",
   "metadata": {},
   "source": [
    "Лучший score на public liderboard - 0.96403."
   ]
  },
  {
   "cell_type": "markdown",
   "metadata": {},
   "source": [
    "Использовались следующие features:  \n",
    "    1. Выход MultinomialNB (наивный байесовский классификатор) на tf-idf представлении текста сайта.  \n",
    "    2. Статистики по ключевым словам: idf, tf-idf.  \n",
    "    3. Кол-во тегов: a, b, br, em, h1-h6 и т.д. + общее кол-во таких тегов.  \n",
    "    4. Уровень домена сайта.  \n",
    "    5. Количество слов на странице.  \n",
    "    6. Коэффициент сжатия.  \n",
    "    7. Кол-во внутренних ссылок.  \n",
    "    8. Кол-во исходящих ссылок.  \n",
    "    9. Количество слов в заголовке страниц.\n",
    "    10. Наличие ссылок на сайты знакомств.  \n",
    "    и т.д.\n",
    "    "
   ]
  },
  {
   "cell_type": "markdown",
   "metadata": {},
   "source": [
    "В качестве основного классификатора использовался CatBoost.  \n",
    "Поиск гиперпараметров осуществляляся с помощью hypeopt.  \n",
    "При валидации модели получено значение score - 0.98."
   ]
  },
  {
   "cell_type": "markdown",
   "metadata": {},
   "source": [
    "**20 важных признаков feature_importance catBoost:**  \n",
    "nb_proba_text: 29.516546352964895  \n",
    "nb_predict_text: 7.643686051487729  \n",
    "avg_anchor_words_num: 5.598136894284965  \n",
    "img_num: 5.427237034913143  \n",
    "script_num: 5.382389946820826  \n",
    "url_len: 4.109298306892532  \n",
    "domain_level: 3.3553888814749544  \n",
    "words_num: 3.23702781456917  \n",
    "anchor_tags_num: 2.683006168061153  \n",
    "keywords_num: 2.6066466332811147  \n",
    "avg_word_len: 2.588521544255762  \n",
    "cnt_a: 2.4528873832304727  \n",
    "cnt_key_text_std: 2.2960703636091293  \n",
    "cnt_tags: 2.1574629526698117  \n",
    "cnt_href_in: 2.077441803610224  \n",
    "compression_level: 2.0584511269120522  \n",
    "cnt_key_text_median: 1.8626948663256349  \n",
    "cnt_br: 1.606623916602909  \n",
    "tf_idf_key_text_std: 1.4066854064169054  \n",
    "desc_words_num: 1.3421272385741299  "
   ]
  },
  {
   "cell_type": "raw",
   "metadata": {
    "id": "KzwK4QqDrYEh"
   },
   "source": [
    "Построить графики распределения в спам и не спам множествах следующих признаков:\n",
    "\n",
    "1\tКоличество слов на странице\n",
    "2\tСредняя длинна слова\n",
    "3\tКоличество слов в заголовке страниц (слова в теге <html><head><title> Some text </title>)\n",
    "4\tКоличество слов в анкорах ссылок (<html><body><a> Some text </a>)\n",
    "5\tКоэффициент сжатия\n",
    "\n",
    "Нужно посчитать статистику минимум по трем признакам и обязательно сделать для 1-го и 2-го признаков\n",
    "\n",
    "И отправить первое решение в соревнование https://www.kaggle.com/c/antispam-information-retrieval/\n",
    "На основании одного из указанных выше признаков попытаться разделить мн-во, так чтобы score в соревновании был больше 0.55\n",
    "\n",
    "При выполнении всех этих условия в течении семинара +1 балл к ДЗ\n",
    "\n",
    "Описание ДЗ и правил выставления за него баллов в https://www.kaggle.com/c/antispam-information-retrieval/  \n",
    "Сроки ДЗ уточнить у преподователя - обычно 2 недели"
   ]
  },
  {
   "cell_type": "code",
   "execution_count": null,
   "metadata": {},
   "outputs": [],
   "source": [
    "from google.colab import drive\n",
    "drive.mount('/content/drive')"
   ]
  },
  {
   "cell_type": "code",
   "execution_count": 16,
   "metadata": {
    "colab": {
     "base_uri": "https://localhost:8080/"
    },
    "id": "n2rSbn5gsa-A",
    "outputId": "3ae7f064-d847-469a-aef6-a6362a25599f"
   },
   "outputs": [
    {
     "name": "stdout",
     "output_type": "stream",
     "text": [
      "/content\n",
      "Archive:  kaggle_test_data_tab.csv.zip\n",
      "  inflating: kaggle_test_data_tab.csv  \n",
      "Archive:  kaggle_train_data_tab.csv.zip\n",
      "  inflating: kaggle_train_data_tab.csv  \n",
      "\u001b[0m\u001b[01;34mdrive\u001b[0m/                        kaggle_train_data_tab.csv\n",
      "kaggle_test_data_tab.csv      kaggle_train_data_tab.csv.zip\n",
      "kaggle_test_data_tab.csv.zip  \u001b[01;34msample_data\u001b[0m/\n",
      "CPU times: user 161 ms, sys: 67.6 ms, total: 228 ms\n",
      "Wall time: 21.2 s\n"
     ]
    }
   ],
   "source": [
    "%%time\n",
    "%cp '/content/drive/My Drive/AntiSPAM/kaggle_test_data_tab.csv.zip' '/content/'\n",
    "%cp '/content/drive/My Drive/AntiSPAM/kaggle_train_data_tab.csv.zip' '/content/'\n",
    "%cd '/content/'\n",
    "!unzip kaggle_test_data_tab.csv.zip\n",
    "!unzip kaggle_train_data_tab.csv.zip\n",
    "%ls"
   ]
  },
  {
   "cell_type": "code",
   "execution_count": 17,
   "metadata": {
    "id": "SJdTWOSPvU1i"
   },
   "outputs": [],
   "source": [
    "!rm -r /content/kaggle_test_data_tab.csv.zip\n",
    "!rm -r /content/kaggle_train_data_tab.csv.zip"
   ]
  },
  {
   "cell_type": "code",
   "execution_count": 18,
   "metadata": {
    "id": "I-xW1j5srYEi"
   },
   "outputs": [],
   "source": [
    "from __future__ import division\n",
    "\n",
    "from bs4 import BeautifulSoup\n",
    "import pymorphy2\n",
    "import base64\n",
    "import csv\n",
    "import gzip\n",
    "from io import BytesIO\n",
    "import zlib\n",
    "import numpy as np\n",
    "from urllib.parse import urlparse\n",
    "\n",
    "from collections import namedtuple\n",
    "\n",
    "%matplotlib inline\n",
    "import matplotlib.pyplot as plt\n",
    "\n",
    "import pandas as pd"
   ]
  },
  {
   "cell_type": "code",
   "execution_count": 19,
   "metadata": {
    "id": "XHNoC_p9rYEk"
   },
   "outputs": [],
   "source": [
    "TRACE_NUM = 1000\n",
    "import logging\n",
    "import importlib\n",
    "importlib.reload(logging)\n",
    "logging.basicConfig(format='%(asctime)s %(levelname)s:%(message)s', level=logging.INFO, datefmt='%H:%M:%S')\n",
    "\n",
    "def trace(items_num, trace_num=TRACE_NUM):\n",
    "    if items_num % trace_num == 0: logging.info(\"Complete items %05d\" % items_num)\n",
    "        \n",
    "def trace_worker(items_num, worker_id, trace_num=TRACE_NUM):\n",
    "    if items_num % trace_num == 0: logging.info(\"Complete items %05d in worker_id %d\" % (items_num, worker_id))"
   ]
  },
  {
   "cell_type": "markdown",
   "metadata": {
    "id": "qPV6YeKnrYEl"
   },
   "source": [
    "### Утилиты"
   ]
  },
  {
   "cell_type": "code",
   "execution_count": 20,
   "metadata": {},
   "outputs": [],
   "source": [
    "import pickle\n",
    "def save_obj(obj, name):                                                       \n",
    "    with open(name + '.pkl', 'wb') as f:                                        \n",
    "        pickle.dump(obj, f, pickle.HIGHEST_PROTOCOL)                            \n",
    "                                                                                \n",
    "def load_obj(name):                                                            \n",
    "    with open(name + '.pkl', 'rb') as f:                                        \n",
    "        return pickle.load(f) "
   ]
  },
  {
   "cell_type": "markdown",
   "metadata": {
    "id": "aMxRD75JrYEl"
   },
   "source": [
    "### Извлечение текста из html"
   ]
  },
  {
   "cell_type": "markdown",
   "metadata": {
    "id": "FXKGdp1HrYEo"
   },
   "source": [
    "#### Извлечение текста при помощи дополнительных библиотек"
   ]
  },
  {
   "cell_type": "code",
   "execution_count": 21,
   "metadata": {
    "id": "Mz2lec-3rYEo"
   },
   "outputs": [],
   "source": [
    "def html2text_bs(raw_html):\n",
    "    from bs4 import BeautifulSoup\n",
    "    \"\"\"\n",
    "    Тут производится извлечения из html текста\n",
    "    \"\"\"\n",
    "    soup = BeautifulSoup(raw_html, \"html.parser\")\n",
    "    [s.extract() for s in soup(['script', 'style'])]\n",
    "    return soup.get_text()\n",
    "\n",
    "def html2text_bs_visible(raw_html):\n",
    "    from bs4 import BeautifulSoup\n",
    "    \"\"\"\n",
    "    Тут производится извлечения из html текста, который видим пользователю\n",
    "    \"\"\"\n",
    "    soup = BeautifulSoup(raw_html, \"html.parser\")    \n",
    "    [s.extract() for s in soup(['style', 'script', '[document]', 'head', 'title'])]\n",
    "    return soup.get_text()"
   ]
  },
  {
   "cell_type": "markdown",
   "metadata": {
    "id": "gdYeLLdprYEp"
   },
   "source": [
    "#### Выбираем какой метод для конвертации html в текст будет основным"
   ]
  },
  {
   "cell_type": "code",
   "execution_count": 22,
   "metadata": {
    "id": "GEAQm5UPrYEq"
   },
   "outputs": [],
   "source": [
    "html2text = html2text_bs\n",
    "# html2text = html2text_parser"
   ]
  },
  {
   "cell_type": "markdown",
   "metadata": {
    "id": "MDURCduxrYEq"
   },
   "source": [
    "#### Методы для токенизации текста"
   ]
  },
  {
   "cell_type": "code",
   "execution_count": 23,
   "metadata": {
    "id": "n4QsmCVqrYEr"
   },
   "outputs": [],
   "source": [
    "def easy_tokenizer(text):\n",
    "    word = str()\n",
    "    for symbol in text:\n",
    "        if symbol.isalnum(): word += symbol\n",
    "        elif word:\n",
    "            yield word\n",
    "            word = str()\n",
    "    if word: yield word\n",
    "\n",
    "PYMORPHY_CACHE = {}\n",
    "MORPH = None\n",
    "#hint, чтобы установка pymorphy2 не была бы обязательной\n",
    "def get_lemmatizer():\n",
    "    import pymorphy2\n",
    "    global MORPH\n",
    "    if MORPH is None: MORPH = pymorphy2.MorphAnalyzer()\n",
    "    return MORPH\n",
    "\n",
    "def pymorphy_tokenizer(text):\n",
    "    global PYMORPHY_CACHE\n",
    "    for word in easy_tokenizer(text):\n",
    "        word_hash = hash(word)\n",
    "        if word_hash not in PYMORPHY_CACHE:\n",
    "            PYMORPHY_CACHE[word_hash] = get_lemmatizer().parse(word)[0].normal_form            \n",
    "        yield PYMORPHY_CACHE[word_hash]"
   ]
  },
  {
   "cell_type": "markdown",
   "metadata": {
    "id": "i8urzj9LrYEs"
   },
   "source": [
    "#### Основная функция, которая вызывается для преобразования html в список слов"
   ]
  },
  {
   "cell_type": "code",
   "execution_count": 24,
   "metadata": {
    "id": "0lWUWujsrYEt"
   },
   "outputs": [],
   "source": [
    "def html2word(raw_html, to_text=html2text, tokenizer=pymorphy_tokenizer):\n",
    "    return tokenizer(to_text(raw_html).lower())"
   ]
  },
  {
   "cell_type": "markdown",
   "metadata": {
    "id": "GhoDulpZrYEt"
   },
   "source": [
    "### Парсинг html: выдление title, keywords, description"
   ]
  },
  {
   "cell_type": "code",
   "execution_count": 780,
   "metadata": {},
   "outputs": [],
   "source": [
    "def count_tags(tags, soup):\n",
    "    res = {}\n",
    "    for searched_tag in tags:\n",
    "        res[searched_tag] = len(soup.find_all(searched_tag))\n",
    "    return res\n",
    "\n",
    "def get_cnt_href_dating_sites(hrefs):\n",
    "    dating_sites = ['mamba.ru', 'mylove.ru', 'rusdate.net', 'loveeto.ru', 'loveplanet.vip', 'teamo.ru', 'badoo.com']\n",
    "    return sum([sum([str(href).lower().find(site) > 0 for site in dating_sites])\n",
    "                for href in hrefs])\n",
    "\n",
    "def get_cnt_href_in(url, hrefs):\n",
    "    from urllib.parse import urlparse\n",
    "    netloc = urlparse(url).netloc\n",
    "    return sum([href['href'].lower().find(netloc) > 0 or\n",
    "                str(href).startswith('#')\n",
    "                for href in hrefs])\n",
    "\n",
    "def get_cnt_href_out(url, hrefs):\n",
    "    from urllib.parse import urlparse\n",
    "    netloc = urlparse(url).netloc\n",
    "    return sum([urlparse(href['href']).netloc != netloc\n",
    "                for href in hrefs])\n",
    "\n",
    "def get_domain_level(url):\n",
    "    from urllib.parse import urlparse\n",
    "    return len(urlparse(url).netloc.split('.'))"
   ]
  },
  {
   "cell_type": "code",
   "execution_count": 25,
   "metadata": {
    "id": "WKTcQRCWrYEv"
   },
   "outputs": [],
   "source": [
    "def get_html_info(raw_html):\n",
    "    from bs4 import BeautifulSoup\n",
    "    \n",
    "    info = {}\n",
    "    \n",
    "    soup = BeautifulSoup(raw_html, \"html.parser\")\n",
    "    \n",
    "    info['title_meta'] = \"\"\n",
    "    info['keywords'] = \"\"\n",
    "    info['description'] = \"\"\n",
    "    info['title'] = \"\"\n",
    "    info['avg_anchor_words_num'] = 0\n",
    "    \n",
    "    head = soup.find(\"head\")\n",
    "    if head:\n",
    "        title_tag = head.find(\"meta\",  {\"property\":\"og:title\"})\n",
    "        info['title_meta'] = title_tag[\"content\"] if (title_tag and title_tag.has_attr('content')) else \"\"\n",
    "\n",
    "        keywords_tag = head.find(\"meta\", {\"name\":\"keywords\"})\n",
    "        keywords = keywords_tag[\"content\"] if (keywords_tag and keywords_tag.has_attr('content')) else \"\"\n",
    "        #meta_info['keywords'] = list(pymorphy_tokenizer(keywords))\n",
    "        info['keywords'] = keywords\n",
    "        description_tag = head.find(\"meta\", {\"name\":\"description\"})\n",
    "        description = description_tag[\"content\"] if (description_tag and description_tag.has_attr('content')) else \"\"\n",
    "        info['description'] = description\n",
    "\n",
    "    title_tag = soup.find('title')\n",
    "    info['title'] = title_tag.get_text() if title_tag else \"\"\n",
    "    \n",
    "    info[\"cnt_href_in\"] = 0\n",
    "    info[\"cnt_href_out\"] = 0\n",
    "    info[\"cnt_href_dating_sites\"] = 0\n",
    "    \n",
    "    a_tags = soup.find_all('a', href=True)\n",
    "    info[\"cnt_href_in\"] = get_cnt_href_in(url, a_tags)\n",
    "    info[\"cnt_href_out\"] = get_cnt_href_out(url, a_tags)\n",
    "    info[\"cnt_href_dating_sites\"] = get_cnt_href_dating_sites(a_tags)\n",
    "\n",
    "    anchor_tags = soup.find_all('a', href=True, text=True)\n",
    "    anchor_texts = list(map(lambda x: (x.get_text()), anchor_tags))\n",
    "    tokenized_anchor_texts = list(map(lambda x: list(pymorphy_tokenizer(x)), anchor_texts))\n",
    "    l_cnt_anchors = list(map(len, tokenized_anchor_texts))\n",
    "    info['avg_anchor_words_num'] = sum(l_cnt_anchors) / len(l_cnt_anchors) if l_cnt_anchors else 0\n",
    "    \n",
    "    info['anchor_tags_num'] = len(anchor_tags)\n",
    "    info['img_num'] = len(soup.find_all('img'))\n",
    "    info['script_num'] = len(soup.find_all('script'))\n",
    "\n",
    "    tags = ['b', 'br', 'a', 'strong', 'h1', 'h2', 'h3', \n",
    "            'h4', 'h5', 'h6', 'em', 'i']\n",
    "    d_tags = count_tags(tags, soup)\n",
    "    for tag in tags:\n",
    "        info[\"cnt_\" + tag] = d_tags[tag]\n",
    "    info['cnt_tags'] = sum(d_tags.values())\n",
    "    \n",
    "    [s.extract() for s in soup(['style', 'script', '[document]', 'head', 'title'])]\n",
    "    info['text'] = soup.get_text()\n",
    "    \n",
    "    return info"
   ]
  },
  {
   "cell_type": "code",
   "execution_count": 781,
   "metadata": {
    "id": "Ztc-ocVsrYEx"
   },
   "outputs": [],
   "source": [
    "def calc_features(url, html_data):\n",
    "    features = {}\n",
    "    \n",
    "    words = list(html2word(html_data))\n",
    "    features['words_num'] = len(words)\n",
    "    features['avg_word_len'] = get_avg_word_len(words)\n",
    "    \n",
    "    html_info = get_html_info(html_data)\n",
    "    features.update(html_info)\n",
    "\n",
    "    title_l = list(pymorphy_tokenizer(features['title']))\n",
    "    keywords_l = list(pymorphy_tokenizer(features['keywords']))\n",
    "    desc_l = list(pymorphy_tokenizer(features['description']))\n",
    "    text_l = list(pymorphy_tokenizer(features['text']))\n",
    "    title_meta_l = list(pymorphy_tokenizer(features['title_meta']))\n",
    "\n",
    "    features['title_words_num'] = len(title_l)\n",
    "    features['keywords_num'] = len(keywords_l)\n",
    "    features['desc_words_num'] = len(desc_l)\n",
    "    features['title_meta_words_num'] = len(title_meta_l)\n",
    "\n",
    "    features['title_char_num'] = len(' '.join(title_l))\n",
    "    features['keywords_char_num'] = len(' '.join(keywords_l))\n",
    "    features['desc_char_num'] = len(' '.join(desc_l))\n",
    "    features['title_meta_char_num'] = len(' '.join(title_meta_l))\n",
    "\n",
    "    features['url_len'] = len(list(url.split('/')))\n",
    "\n",
    "    features['tokenized_text'] = ' '.join(text_l)\n",
    "    features['tokenized_title'] = ' '.join(title_l)\n",
    "\n",
    "    features['compression_level'] = get_compression_level(features['tokenized_text'])\n",
    "    \n",
    "    #features['html_data'] = html_data\n",
    "    features['domain_level'] = get_domain_level(url)\n",
    "\n",
    "    return features"
   ]
  },
  {
   "cell_type": "markdown",
   "metadata": {
    "id": "SqO11n26rYEx"
   },
   "source": [
    "####  Вычисление признаков"
   ]
  },
  {
   "cell_type": "code",
   "execution_count": 27,
   "metadata": {
    "id": "LQWPvggRrYEx"
   },
   "outputs": [],
   "source": [
    "def get_avg_word_len(words):\n",
    "    cnt_words = len(words)\n",
    "    return sum(list(map(lambda w: len(w), words))) / cnt_words if cnt_words else 0"
   ]
  },
  {
   "cell_type": "code",
   "execution_count": 28,
   "metadata": {
    "id": "BijkisNk2yml"
   },
   "outputs": [],
   "source": [
    "def get_compression_level(text):\n",
    "    gzip_string = gzip.compress(text.encode())\n",
    "    return len(text) / len(gzip_string)"
   ]
  },
  {
   "cell_type": "markdown",
   "metadata": {
    "id": "W1mfWJd4rYEy"
   },
   "source": [
    "#### Пример"
   ]
  },
  {
   "cell_type": "code",
   "execution_count": 782,
   "metadata": {
    "id": "iuMSe7-QrYEy",
    "outputId": "4a8ef78f-7998-4b39-f600-45553e6f4244"
   },
   "outputs": [
    {
     "data": {
      "text/plain": [
       "{'words_num': 6,\n",
       " 'avg_word_len': 3.5,\n",
       " 'title_meta': '',\n",
       " 'keywords': '',\n",
       " 'description': '',\n",
       " 'title': ' Заголовок Ololo ',\n",
       " 'avg_anchor_words_num': 0,\n",
       " 'anchor_tags_num': 0,\n",
       " 'img_num': 0,\n",
       " 'script_num': 0,\n",
       " 'text': '\\n\\n\\nспам 1 2 3\\n\\n',\n",
       " 'title_words_num': 2,\n",
       " 'keywords_num': 0,\n",
       " 'desc_words_num': 0,\n",
       " 'title_meta_words_num': 0,\n",
       " 'title_char_num': 15,\n",
       " 'keywords_char_num': 0,\n",
       " 'desc_char_num': 0,\n",
       " 'title_meta_char_num': 0,\n",
       " 'url_len': 3,\n",
       " 'tokenized_text': 'спам 1 2 3',\n",
       " 'tokenized_title': 'заголовок ololo',\n",
       " 'compression_level': 0.2857142857142857,\n",
       " 'domain_level': 1}"
      ]
     },
     "execution_count": 782,
     "metadata": {},
     "output_type": "execute_result"
    }
   ],
   "source": [
    "test_html_data = u'''\n",
    "<html>\n",
    "<title> Заголовок Ololo </title>\n",
    "спам 1 2 3\n",
    "</html>\n",
    "'''\n",
    "test_url = 'http://ololo'\n",
    "calc_features(test_url, test_html_data)"
   ]
  },
  {
   "cell_type": "markdown",
   "metadata": {},
   "source": [
    "## Многопоточная обработка"
   ]
  },
  {
   "cell_type": "code",
   "execution_count": 30,
   "metadata": {
    "id": "P4PhcziUz_dD"
   },
   "outputs": [],
   "source": [
    "WORKER_NUM = 4"
   ]
  },
  {
   "cell_type": "code",
   "execution_count": 31,
   "metadata": {
    "id": "t8glhioXrYEy"
   },
   "outputs": [],
   "source": [
    "from multiprocessing import Process, Queue\n",
    "\n",
    "DocItem = namedtuple('DocItem', ['doc_id', 'is_spam', 'url', 'features'])\n",
    "\n",
    "def load_csv(input_file_name, calc_features_f):    \n",
    "    \"\"\"\n",
    "    Загружаем данные и извлекаем на лету признаки\n",
    "    Сам контент не сохраняется, чтобы уменьшить потребление памяти - чтобы\n",
    "    можно было запускать даже на ноутбуках в классе\n",
    "    \"\"\"\n",
    "    global LAST_HTML\n",
    "    with gzip.open(input_file_name, mode='rt', encoding='utf8') if input_file_name.endswith('gz') else open(input_file_name, mode='rt', encoding='utf8')  as input_file:            \n",
    "        headers = input_file.readline()\n",
    "        \n",
    "        for i, line in enumerate(input_file):\n",
    "            trace(i)\n",
    "            parts = line.strip().split('\\t')\n",
    "            url_id = int(parts[0])                                        \n",
    "            mark = bool(int(parts[1]))                    \n",
    "            url = parts[2]\n",
    "            pageInb64 = parts[3]\n",
    "            html_data = base64.b64decode(pageInb64)\n",
    "            try:\n",
    "                html_data = html_data.decode('utf8')\n",
    "            except:\n",
    "                html_data = html_data.decode('latin1')\n",
    "            features = calc_features_f(url, html_data)            \n",
    "            yield DocItem(url_id, mark, url, features)            \n",
    "                \n",
    "        trace(i, 1)  \n",
    "        \n",
    "def load_csv_worker(input_file_name, calc_features_f, worker_id, res_queue):    \n",
    "    with gzip.open(input_file_name,  mode='rt', encoding='utf8') if input_file_name.endswith('gz') else open(input_file_name, mode='rt', encoding='utf8')  as input_file:            \n",
    "        headers = input_file.readline()\n",
    "        \n",
    "        for i, line in enumerate(input_file):\n",
    "            trace_worker(i, worker_id)\n",
    "            if i % WORKER_NUM != worker_id: continue\n",
    "            parts = line.strip().split('\\t')\n",
    "            url_id = int(parts[0])                                        \n",
    "            mark = bool(int(parts[1]))                    \n",
    "            url = parts[2]\n",
    "            pageInb64 = parts[3]\n",
    "            html_data = base64.b64decode(pageInb64)\n",
    "            try:\n",
    "                html_data = html_data.decode('utf8')\n",
    "            except:\n",
    "                html_data = html_data.decode('latin1')\n",
    "            features = calc_features_f(url, html_data)            \n",
    "            res_queue.put(DocItem(url_id, mark, url, features))\n",
    "                \n",
    "        trace_worker(i, worker_id, 1)  \n",
    "    res_queue.put(None)\n",
    "        \n",
    "def load_csv_multiprocess(input_file_name, calc_features_f):\n",
    "    processes = []\n",
    "    res_queue = Queue()    \n",
    "    for i in range(WORKER_NUM):\n",
    "        process = Process(target=load_csv_worker, args=(input_file_name, calc_features_f, i, res_queue))\n",
    "        processes.append(process)\n",
    "        process.start()\n",
    "    \n",
    "    complete_workers = 0\n",
    "    while complete_workers != WORKER_NUM:\n",
    "        item = res_queue.get()\n",
    "        if item is None:\n",
    "            complete_workers += 1\n",
    "        else:\n",
    "            yield item\n",
    "        \n",
    "    for process in processes: process.join()"
   ]
  },
  {
   "cell_type": "markdown",
   "metadata": {
    "id": "CEw0I_5KrYEz"
   },
   "source": [
    "** Обрабатываем входной файл **\n",
    "<br>\n",
    "Формат - поля разделенные табуляциями\n",
    "<br>\n",
    "0 - идентификатор документа\n",
    "<br>\n",
    "1 - метка класса 0 - не спам, 1 - спам\n",
    "<br>\n",
    "2 - урл документа\n",
    "<br>\n",
    "3 - документ в кодировке base64\n",
    "\n",
    "Выходной формат - массив кортежей вида\n",
    "(doc_id, is_spam, url, html_data)"
   ]
  },
  {
   "cell_type": "code",
   "execution_count": null,
   "metadata": {
    "id": "hKqQSoPJ0qCX"
   },
   "outputs": [],
   "source": [
    "%%time\n",
    "TRAIN_DATA_FILE  = 'kaggle_train_data_tab.csv'\n",
    "train_docs = list(load_csv_multiprocess(TRAIN_DATA_FILE, calc_features))"
   ]
  },
  {
   "cell_type": "code",
   "execution_count": 145,
   "metadata": {
    "id": "3s88AG1sPiu9"
   },
   "outputs": [],
   "source": [
    "#save_obj(train_docs, 'train_docs')"
   ]
  },
  {
   "cell_type": "markdown",
   "metadata": {},
   "source": [
    "### Датасеты"
   ]
  },
  {
   "cell_type": "code",
   "execution_count": 32,
   "metadata": {},
   "outputs": [],
   "source": [
    "train_docs = load_obj('train_docs')"
   ]
  },
  {
   "cell_type": "code",
   "execution_count": 57,
   "metadata": {},
   "outputs": [],
   "source": [
    "test_docs = load_obj('test_docs')"
   ]
  },
  {
   "cell_type": "code",
   "execution_count": 44,
   "metadata": {},
   "outputs": [],
   "source": [
    "doc_features = train_docs[0].features.keys()\n",
    "df_columns = ['doc_id', 'target'] + [k for k in doc_features]"
   ]
  },
  {
   "cell_type": "code",
   "execution_count": 43,
   "metadata": {},
   "outputs": [],
   "source": [
    "df_train = pd.concat([pd.DataFrame([[doc.doc_id, str(int(doc.is_spam))] + [doc.features[k] for k in doc_features]], \n",
    "                      columns=df_columns) \n",
    "                      for doc in train_docs], ignore_index=True)\n",
    "df_train.set_index('doc_id',inplace=True)"
   ]
  },
  {
   "cell_type": "code",
   "execution_count": 58,
   "metadata": {},
   "outputs": [],
   "source": [
    "df_test = pd.concat([pd.DataFrame([[doc.doc_id, str(int(doc.is_spam))] + [doc.features[k] for k in doc_features]], \n",
    "                     columns=df_columns) \n",
    "                     for doc in test_docs], ignore_index=True)\n",
    "df_test.set_index('doc_id',inplace=True)"
   ]
  },
  {
   "cell_type": "markdown",
   "metadata": {},
   "source": [
    "### Дополнительные признаки"
   ]
  },
  {
   "cell_type": "code",
   "execution_count": 45,
   "metadata": {},
   "outputs": [],
   "source": [
    "from sklearn.feature_extraction.text import TfidfTransformer\n",
    "from sklearn.feature_extraction.text import TfidfVectorizer\n",
    "from sklearn.feature_extraction.text import CountVectorizer\n",
    "from tqdm import tqdm"
   ]
  },
  {
   "cell_type": "markdown",
   "metadata": {},
   "source": [
    "##### TF-IDF"
   ]
  },
  {
   "cell_type": "code",
   "execution_count": 59,
   "metadata": {},
   "outputs": [],
   "source": [
    "all_texts = pd.concat([df_train['tokenized_text'], df_test['tokenized_text']])"
   ]
  },
  {
   "cell_type": "code",
   "execution_count": 61,
   "metadata": {},
   "outputs": [],
   "source": [
    "all_titles = pd.concat([df_train['tokenized_title'], df_test['tokenized_title']])"
   ]
  },
  {
   "cell_type": "code",
   "execution_count": 60,
   "metadata": {},
   "outputs": [
    {
     "data": {
      "text/plain": [
       "TfidfVectorizer(max_features=50000, ngram_range=(1, 3))"
      ]
     },
     "execution_count": 60,
     "metadata": {},
     "output_type": "execute_result"
    }
   ],
   "source": [
    "MAX_TFIDF_FEATURES = 50_000\n",
    "tf_idf_vectorizer = TfidfVectorizer(max_features=MAX_TFIDF_FEATURES, ngram_range = (1, 3))\n",
    "tf_idf_vectorizer.fit(all_texts)"
   ]
  },
  {
   "cell_type": "code",
   "execution_count": 62,
   "metadata": {},
   "outputs": [
    {
     "data": {
      "text/plain": [
       "TfidfVectorizer(max_features=10000, ngram_range=(1, 3))"
      ]
     },
     "execution_count": 62,
     "metadata": {},
     "output_type": "execute_result"
    }
   ],
   "source": [
    "title_tf_idf_vectorizer = TfidfVectorizer(max_features=10_000, ngram_range = (1, 3))\n",
    "title_tf_idf_vectorizer.fit(all_titles)"
   ]
  },
  {
   "cell_type": "code",
   "execution_count": 63,
   "metadata": {},
   "outputs": [],
   "source": [
    "tf_idf_train = tf_idf_vectorizer.transform(df_train.tokenized_text)\n",
    "tf_idf_test = tf_idf_vectorizer.transform(df_test.tokenized_text)"
   ]
  },
  {
   "cell_type": "code",
   "execution_count": 65,
   "metadata": {},
   "outputs": [],
   "source": [
    "title_tf_idf_train = title_tf_idf_vectorizer.transform(df_train.tokenized_title)\n",
    "title_tf_idf_test = title_tf_idf_vectorizer.transform(df_test.tokenized_title)"
   ]
  },
  {
   "cell_type": "markdown",
   "metadata": {},
   "source": [
    "**Средний IDF по ключевым словам**"
   ]
  },
  {
   "cell_type": "code",
   "execution_count": 66,
   "metadata": {},
   "outputs": [],
   "source": [
    "df_idf = pd.DataFrame(tf_idf_vectorizer.idf_, index=tf_idf_vectorizer.get_feature_names(), columns=[\"idf\"])"
   ]
  },
  {
   "cell_type": "code",
   "execution_count": 67,
   "metadata": {},
   "outputs": [],
   "source": [
    "feature_names_vectorizer = np.array(tf_idf_vectorizer.get_feature_names())"
   ]
  },
  {
   "cell_type": "code",
   "execution_count": 68,
   "metadata": {},
   "outputs": [],
   "source": [
    "def fill_idf_key_text_median(df, tf_idf_matrix):\n",
    "    i = 0\n",
    "    for idx in tqdm(df.index):\n",
    "        tf_idf_vector = np.array(tf_idf_matrix[i, :].todense()).reshape(-1)\n",
    "        sorted_by_idf = np.argsort(tf_idf_vector)\n",
    "        top_words = feature_names_vectorizer[sorted_by_idf[::-1][:10]]\n",
    "        df.loc[idx, 'idf_key_text_median'] = df_idf.loc[top_words].idf.median()\n",
    "        i += 1\n",
    "        \n",
    "def fill_idf_key_text_std(df, tf_idf_matrix):\n",
    "    i = 0\n",
    "    for idx in tqdm(df.index):\n",
    "        tf_idf_vector = np.array(tf_idf_matrix[i, :].todense()).reshape(-1)\n",
    "        sorted_by_idf = np.argsort(tf_idf_vector)\n",
    "        top_words = feature_names_vectorizer[sorted_by_idf[::-1][:10]]\n",
    "        df.loc[idx, 'idf_key_text_std'] = df_idf.loc[top_words].idf.std()\n",
    "        i += 1\n",
    "        \n",
    "def fill_tf_idf_key_text_median(df, tf_idf_matrix):\n",
    "    i = 0\n",
    "    for idx in tqdm(df.index):\n",
    "        tf_idf_vector = np.array(tf_idf_matrix[i, :].todense()).reshape(-1)\n",
    "        sorted_by_idf = np.argsort(tf_idf_vector)\n",
    "        df.loc[idx, 'tf_idf_key_text_median'] = np.median(tf_idf_vector[sorted_by_idf[::-1][:10]])\n",
    "        i += 1\n",
    "        \n",
    "def fill_tf_idf_key_text_std(df, tf_idf_matrix):\n",
    "    i = 0\n",
    "    for idx in tqdm(df.index):\n",
    "        tf_idf_vector = np.array(tf_idf_matrix[i, :].todense()).reshape(-1)\n",
    "        sorted_by_idf = np.argsort(tf_idf_vector)\n",
    "        df.loc[idx, 'tf_idf_key_text_std'] = np.std(tf_idf_vector[sorted_by_idf[::-1][:10]])\n",
    "        i += 1"
   ]
  },
  {
   "cell_type": "code",
   "execution_count": 69,
   "metadata": {},
   "outputs": [
    {
     "name": "stderr",
     "output_type": "stream",
     "text": [
      "100%|█████████████████████████████████████████████████████████████████████████████| 7044/7044 [00:14<00:00, 479.12it/s]\n",
      "100%|█████████████████████████████████████████████████████████████████████████████| 7044/7044 [00:14<00:00, 478.89it/s]\n",
      "100%|█████████████████████████████████████████████████████████████████████████████| 7044/7044 [00:11<00:00, 639.66it/s]\n",
      "100%|█████████████████████████████████████████████████████████████████████████████| 7044/7044 [00:10<00:00, 642.23it/s]\n"
     ]
    }
   ],
   "source": [
    "fill_idf_key_text_median(df_train, tf_idf_train)\n",
    "fill_idf_key_text_std(df_train, tf_idf_train)\n",
    "fill_tf_idf_key_text_median(df_train, tf_idf_train)\n",
    "fill_tf_idf_key_text_std(df_train, tf_idf_train)"
   ]
  },
  {
   "cell_type": "code",
   "execution_count": 70,
   "metadata": {},
   "outputs": [
    {
     "name": "stderr",
     "output_type": "stream",
     "text": [
      "100%|███████████████████████████████████████████████████████████████████████████| 16039/16039 [00:33<00:00, 472.56it/s]\n",
      "100%|███████████████████████████████████████████████████████████████████████████| 16039/16039 [00:34<00:00, 463.83it/s]\n",
      "100%|███████████████████████████████████████████████████████████████████████████| 16039/16039 [00:25<00:00, 621.57it/s]\n",
      "100%|███████████████████████████████████████████████████████████████████████████| 16039/16039 [00:26<00:00, 614.03it/s]\n"
     ]
    }
   ],
   "source": [
    "fill_idf_key_text_median(df_test, tf_idf_test)\n",
    "fill_idf_key_text_std(df_test, tf_idf_test)\n",
    "fill_tf_idf_key_text_median(df_test, tf_idf_test)\n",
    "fill_tf_idf_key_text_std(df_test, tf_idf_test)"
   ]
  },
  {
   "cell_type": "markdown",
   "metadata": {},
   "source": [
    "**Статистики кол-ву ключевых слов в тексте**"
   ]
  },
  {
   "cell_type": "code",
   "execution_count": 71,
   "metadata": {},
   "outputs": [],
   "source": [
    "count_vect = CountVectorizer(vocabulary=feature_names_vectorizer, ngram_range = (1, 3))"
   ]
  },
  {
   "cell_type": "code",
   "execution_count": 72,
   "metadata": {},
   "outputs": [
    {
     "data": {
      "text/plain": [
       "CountVectorizer(ngram_range=(1, 3),\n",
       "                vocabulary=array(['00', '00 00', '00 01', ..., 'ўарма', 'ўейх', 'ҷонибить'],\n",
       "      dtype='<U183'))"
      ]
     },
     "execution_count": 72,
     "metadata": {},
     "output_type": "execute_result"
    }
   ],
   "source": [
    "count_vect.fit(all_texts)"
   ]
  },
  {
   "cell_type": "code",
   "execution_count": 73,
   "metadata": {},
   "outputs": [],
   "source": [
    "feature_names_count_vectorizer = np.array(count_vect.get_feature_names())"
   ]
  },
  {
   "cell_type": "code",
   "execution_count": 74,
   "metadata": {},
   "outputs": [],
   "source": [
    "count_matrix_train = count_vect.transform(df_train.tokenized_text)\n",
    "count_matrix_test = count_vect.transform(df_test.tokenized_text)"
   ]
  },
  {
   "cell_type": "code",
   "execution_count": 79,
   "metadata": {},
   "outputs": [],
   "source": [
    "def get_cnt_key_text_median(df, cnt_matrix):\n",
    "    i = 0\n",
    "    for idx in tqdm(df.index):\n",
    "        cnt_vector = np.array(cnt_matrix[i, :].todense()).reshape(-1)\n",
    "        indices_sorted_by_cnt = np.argsort(cnt_vector)\n",
    "        df.loc[idx, 'cnt_key_text_median'] = np.median(cnt_vector[indices_sorted_by_cnt[::-1][:10]])\n",
    "        i += 1\n",
    "        \n",
    "def get_cnt_key_text_std(df, cnt_matrix):\n",
    "    i = 0\n",
    "    for idx in tqdm(df.index):\n",
    "        cnt_vector = np.array(cnt_matrix[i, :].todense()).reshape(-1)\n",
    "        indices_sorted_by_cnt = np.argsort(cnt_vector)\n",
    "        df.loc[idx, 'cnt_key_text_std'] = np.std(cnt_vector[indices_sorted_by_cnt[::-1][:10]])\n",
    "        i += 1"
   ]
  },
  {
   "cell_type": "code",
   "execution_count": 80,
   "metadata": {},
   "outputs": [
    {
     "name": "stderr",
     "output_type": "stream",
     "text": [
      "100%|█████████████████████████████████████████████████████████████████████████████| 7044/7044 [00:07<00:00, 974.27it/s]\n",
      "100%|█████████████████████████████████████████████████████████████████████████████| 7044/7044 [00:08<00:00, 872.68it/s]\n"
     ]
    }
   ],
   "source": [
    "get_cnt_key_text_median(df_train, count_matrix_train)\n",
    "get_cnt_key_text_std(df_train, count_matrix_train)"
   ]
  },
  {
   "cell_type": "code",
   "execution_count": 81,
   "metadata": {},
   "outputs": [
    {
     "name": "stderr",
     "output_type": "stream",
     "text": [
      "100%|███████████████████████████████████████████████████████████████████████████| 16039/16039 [00:19<00:00, 815.10it/s]\n",
      "100%|███████████████████████████████████████████████████████████████████████████| 16039/16039 [00:18<00:00, 844.78it/s]\n"
     ]
    }
   ],
   "source": [
    "get_cnt_key_text_median(df_test, count_matrix_test)\n",
    "get_cnt_key_text_std(df_test, count_matrix_test)"
   ]
  },
  {
   "cell_type": "markdown",
   "metadata": {},
   "source": [
    "### Анализ признаков"
   ]
  },
  {
   "cell_type": "code",
   "execution_count": 134,
   "metadata": {
    "colab": {
     "base_uri": "https://localhost:8080/",
     "height": 281
    },
    "id": "YH3fEqGmrYE0",
    "outputId": "c40f72d5-3c75-4196-ac23-34a33f09bb0e"
   },
   "outputs": [
    {
     "data": {
      "image/png": "[encoded data removed]",
      "text/plain": [
       "<Figure size 432x288 with 1 Axes>"
      ]
     },
     "metadata": {
      "needs_background": "light"
     },
     "output_type": "display_data"
    }
   ],
   "source": [
    "is_spam_data = [doc.features['words_num'] for doc in train_docs if doc.is_spam == True]\n",
    "not_spam_data = [doc.features['words_num'] for doc in train_docs if doc.is_spam == False]\n",
    "bins = range(0,3000,10)\n",
    "plt.hist(is_spam_data, bins=bins, color='red', density=True, alpha=0.7, label='spam')\n",
    "plt.hist(not_spam_data, bins=bins, color='blue', density=True, alpha=0.7, label='not_spam')\n",
    "plt.title('NumWords')\n",
    "plt.legend()\n",
    "plt.show()"
   ]
  },
  {
   "cell_type": "code",
   "execution_count": 135,
   "metadata": {
    "colab": {
     "base_uri": "https://localhost:8080/",
     "height": 281
    },
    "id": "5WtYUNQ5rYE0",
    "outputId": "e686dc2b-35c5-4496-dd7a-330315158cd6"
   },
   "outputs": [
    {
     "data": {
      "image/png": "[encoded data removed]",
      "text/plain": [
       "<Figure size 432x288 with 1 Axes>"
      ]
     },
     "metadata": {
      "needs_background": "light"
     },
     "output_type": "display_data"
    }
   ],
   "source": [
    "is_spam_data = [doc.features['avg_word_len'] for doc in train_docs if doc.is_spam == True]\n",
    "not_spam_data = [doc.features['avg_word_len'] for doc in train_docs if doc.is_spam == False]\n",
    "bins = 100\n",
    "plt.hist(is_spam_data, bins=bins, color='red', density=True, alpha=0.7, label='spam')\n",
    "plt.hist(not_spam_data, bins=bins, color='blue', density=True, alpha=0.7, label='not_spam')\n",
    "plt.title('AvgWordLen')\n",
    "plt.legend()\n",
    "plt.show()"
   ]
  },
  {
   "cell_type": "code",
   "execution_count": 675,
   "metadata": {},
   "outputs": [
    {
     "data": {
      "image/png": "[encoded data removed]",
      "text/plain": [
       "<Figure size 432x288 with 1 Axes>"
      ]
     },
     "metadata": {
      "needs_background": "light"
     },
     "output_type": "display_data"
    }
   ],
   "source": [
    "is_spam_data = [doc.features['avg_anchor_words_num'] for doc in train_docs if doc.is_spam == True]\n",
    "not_spam_data = [doc.features['avg_anchor_words_num'] for doc in train_docs if doc.is_spam == False]\n",
    "bins = range(0, 30, 1)\n",
    "plt.hist(is_spam_data, bins=bins, color='red', density=True, alpha=0.7, label='spam')\n",
    "plt.hist(not_spam_data, bins=bins, color='blue', density=True, alpha=0.7, label='not_spam')\n",
    "plt.title('avg_anchor_words_num')\n",
    "plt.legend()\n",
    "plt.show()"
   ]
  },
  {
   "cell_type": "code",
   "execution_count": 76,
   "metadata": {
    "colab": {
     "base_uri": "https://localhost:8080/",
     "height": 281
    },
    "id": "GzGiZ0FbrYE0",
    "outputId": "9605bdc3-0479-4d1b-d5fb-480f71884d91"
   },
   "outputs": [
    {
     "data": {
      "image/png": "[encoded data removed]",
      "text/plain": [
       "<Figure size 432x288 with 1 Axes>"
      ]
     },
     "metadata": {
      "needs_background": "light"
     },
     "output_type": "display_data"
    }
   ],
   "source": [
    "is_spam_data = [doc.features['title_words_num'] for doc in train_docs if doc.is_spam == True]\n",
    "not_spam_data = [doc.features['title_words_num'] for doc in train_docs if doc.is_spam == False]\n",
    "bins = range(0, 30, 1)\n",
    "plt.hist(is_spam_data, bins=bins, color='red', density=True, alpha=0.7, label='spam')\n",
    "plt.hist(not_spam_data, bins=bins, color='blue', density=True, alpha=0.7, label='not_spam')\n",
    "plt.title('NumWordsTitle')\n",
    "plt.legend()\n",
    "plt.show()"
   ]
  },
  {
   "cell_type": "code",
   "execution_count": 47,
   "metadata": {
    "colab": {
     "base_uri": "https://localhost:8080/",
     "height": 281
    },
    "id": "mM96_wUErYE1",
    "outputId": "121d5028-3977-4aa1-e6e6-75c247ed8fef"
   },
   "outputs": [
    {
     "data": {
      "image/png": "[encoded data removed]",
      "text/plain": [
       "<Figure size 432x288 with 1 Axes>"
      ]
     },
     "metadata": {
      "needs_background": "light"
     },
     "output_type": "display_data"
    }
   ],
   "source": [
    "is_spam_data = df_train.loc[df_train['target'] == '1'][['compression_level']]\n",
    "not_spam_data = df_train.loc[df_train['target'] == '0'][['compression_level']]\n",
    "plt.hist(is_spam_data, bins=100, color='red', density=True, alpha=0.7, label='spam')\n",
    "plt.hist(not_spam_data, bins=100, color='blue', density=True, alpha=0.7, label='not_spam')\n",
    "plt.title('CompressionLevel')\n",
    "plt.legend()\n",
    "plt.show()"
   ]
  },
  {
   "cell_type": "code",
   "execution_count": 139,
   "metadata": {
    "colab": {
     "base_uri": "https://localhost:8080/",
     "height": 281
    },
    "id": "MvOTH0GFOe9X",
    "outputId": "255d05a9-620c-4b11-9eb9-240ee44d976a"
   },
   "outputs": [
    {
     "data": {
      "image/png": "[encoded data removed]",
      "text/plain": [
       "<Figure size 432x288 with 1 Axes>"
      ]
     },
     "metadata": {
      "needs_background": "light"
     },
     "output_type": "display_data"
    }
   ],
   "source": [
    "is_spam_data = [doc.features['script_num'] for doc in train_docs if doc.is_spam == True]\n",
    "not_spam_data = [doc.features['script_num'] for doc in train_docs if doc.is_spam == False]\n",
    "bins = range(0, 30, 1)\n",
    "plt.hist(is_spam_data, bins=bins, color='red', density=True, alpha=0.7, label='spam')\n",
    "plt.hist(not_spam_data, bins=bins, color='blue', density=True, alpha=0.7, label='not_spam')\n",
    "plt.title('ScriptNum')\n",
    "plt.legend()\n",
    "plt.show()"
   ]
  },
  {
   "cell_type": "code",
   "execution_count": 140,
   "metadata": {
    "colab": {
     "base_uri": "https://localhost:8080/",
     "height": 281
    },
    "id": "2giv3nCBOwZi",
    "outputId": "3407ba4f-de0f-4fad-9c75-75a449fe8703",
    "scrolled": true
   },
   "outputs": [
    {
     "data": {
      "image/png": "[encoded data removed]",
      "text/plain": [
       "<Figure size 432x288 with 1 Axes>"
      ]
     },
     "metadata": {
      "needs_background": "light"
     },
     "output_type": "display_data"
    }
   ],
   "source": [
    "is_spam_data = [doc.features['img_num'] for doc in train_docs if doc.is_spam == True]\n",
    "not_spam_data = [doc.features['img_num'] for doc in train_docs if doc.is_spam == False]\n",
    "bins = range(0, 30, 1)\n",
    "plt.hist(is_spam_data, bins=bins, color='red', density=True, alpha=0.7, label='spam')\n",
    "plt.hist(not_spam_data, bins=bins, color='blue', density=True, alpha=0.7, label='not_spam')\n",
    "plt.title('ImgNum')\n",
    "plt.legend()\n",
    "plt.show()"
   ]
  },
  {
   "cell_type": "code",
   "execution_count": 48,
   "metadata": {},
   "outputs": [
    {
     "data": {
      "image/png": "[encoded data removed]",
      "text/plain": [
       "<Figure size 432x288 with 1 Axes>"
      ]
     },
     "metadata": {
      "needs_background": "light"
     },
     "output_type": "display_data"
    }
   ],
   "source": [
    "is_spam_data = [doc.features['cnt_tags'] for doc in train_docs if doc.is_spam == True]\n",
    "not_spam_data = [doc.features['cnt_tags'] for doc in train_docs if doc.is_spam == False]\n",
    "bins = range(0, 30, 1)\n",
    "plt.hist(is_spam_data, bins=bins, color='red', density=True, alpha=0.7, label='spam')\n",
    "plt.hist(not_spam_data, bins=bins, color='blue', density=True, alpha=0.7, label='not_spam')\n",
    "plt.title('CntTags')\n",
    "plt.legend()\n",
    "plt.show()"
   ]
  },
  {
   "cell_type": "code",
   "execution_count": 56,
   "metadata": {},
   "outputs": [
    {
     "data": {
      "image/png": "[encoded data removed]",
      "text/plain": [
       "<Figure size 432x288 with 1 Axes>"
      ]
     },
     "metadata": {
      "needs_background": "light"
     },
     "output_type": "display_data"
    }
   ],
   "source": [
    "is_spam_data = [doc.features['domain_level'] for doc in train_docs if doc.is_spam == True]\n",
    "not_spam_data = [doc.features['domain_level'] for doc in train_docs if doc.is_spam == False]\n",
    "plt.hist(is_spam_data, color='red', density=True, alpha=0.7, label='spam')\n",
    "plt.hist(not_spam_data, color='blue', density=True, alpha=0.7, label='not_spam')\n",
    "plt.title('DomainLevel')\n",
    "plt.legend()\n",
    "plt.show()"
   ]
  },
  {
   "cell_type": "code",
   "execution_count": 158,
   "metadata": {},
   "outputs": [
    {
     "data": {
      "image/png": "[encoded data removed]",
      "text/plain": [
       "<Figure size 432x288 with 1 Axes>"
      ]
     },
     "metadata": {
      "needs_background": "light"
     },
     "output_type": "display_data"
    }
   ],
   "source": [
    "is_spam_data = df_train.loc[df_train['target'] == '1'][['tf_idf_key_text_median']]\n",
    "not_spam_data = df_train.loc[df_train['target'] == '0'][['tf_idf_key_text_median']]\n",
    "plt.hist(is_spam_data, bins=100, color='red', density=True, alpha=0.7, label='spam')\n",
    "plt.hist(not_spam_data, bins=100, color='blue', density=True, alpha=0.7, label='not_spam')\n",
    "plt.title('TF IDF key median')\n",
    "plt.legend()\n",
    "plt.show()"
   ]
  },
  {
   "cell_type": "code",
   "execution_count": 159,
   "metadata": {},
   "outputs": [
    {
     "data": {
      "image/png": "[encoded data removed]",
      "text/plain": [
       "<Figure size 432x288 with 1 Axes>"
      ]
     },
     "metadata": {
      "needs_background": "light"
     },
     "output_type": "display_data"
    }
   ],
   "source": [
    "is_spam_data = df_train.loc[df_train['target'] == '1'][['idf_key_text_median']]\n",
    "not_spam_data = df_train.loc[df_train['target'] == '0'][['idf_key_text_median']]\n",
    "plt.hist(is_spam_data, bins=100, color='red', density=True, alpha=0.7, label='spam')\n",
    "plt.hist(not_spam_data, bins=100, color='blue', density=True, alpha=0.7, label='not_spam')\n",
    "plt.title('IDF key median')\n",
    "plt.legend()\n",
    "plt.show()"
   ]
  },
  {
   "cell_type": "code",
   "execution_count": 179,
   "metadata": {},
   "outputs": [
    {
     "data": {
      "image/png": "[encoded data removed]",
      "text/plain": [
       "<Figure size 432x288 with 1 Axes>"
      ]
     },
     "metadata": {
      "needs_background": "light"
     },
     "output_type": "display_data"
    }
   ],
   "source": [
    "is_spam_data = df_train.loc[df_train['target'] == '1'][['tf_idf_key_text_std']]\n",
    "not_spam_data = df_train.loc[df_train['target'] == '0'][['tf_idf_key_text_std']]\n",
    "plt.hist(is_spam_data, bins=100, color='red', density=True, alpha=0.7, label='spam')\n",
    "plt.hist(not_spam_data, bins=100, color='blue', density=True, alpha=0.7, label='not_spam')\n",
    "plt.title('TF IDF key std')\n",
    "plt.legend()\n",
    "plt.show()"
   ]
  },
  {
   "cell_type": "code",
   "execution_count": 195,
   "metadata": {},
   "outputs": [
    {
     "data": {
      "image/png": "[encoded data removed]",
      "text/plain": [
       "<Figure size 432x288 with 1 Axes>"
      ]
     },
     "metadata": {
      "needs_background": "light"
     },
     "output_type": "display_data"
    }
   ],
   "source": [
    "is_spam_data = df_train.loc[df_train['target'] == '1'][['idf_key_text_std']]\n",
    "not_spam_data = df_train.loc[df_train['target'] == '0'][['idf_key_text_std']]\n",
    "plt.hist(is_spam_data, bins=100, color='red', density=True, alpha=0.7, label='spam')\n",
    "plt.hist(not_spam_data, bins=100, color='blue', density=True, alpha=0.7, label='not_spam')\n",
    "plt.title('IDF key std')\n",
    "plt.legend()\n",
    "plt.show()"
   ]
  },
  {
   "cell_type": "code",
   "execution_count": 82,
   "metadata": {},
   "outputs": [
    {
     "data": {
      "image/png": "[encoded data removed]",
      "text/plain": [
       "<Figure size 432x288 with 1 Axes>"
      ]
     },
     "metadata": {
      "needs_background": "light"
     },
     "output_type": "display_data"
    }
   ],
   "source": [
    "is_spam_data = df_train.loc[df_train['target'] == '1'][['cnt_key_text_std']]\n",
    "not_spam_data = df_train.loc[df_train['target'] == '0'][['cnt_key_text_std']]\n",
    "bins = range(0, 50, 1)\n",
    "plt.hist(is_spam_data, bins=bins, color='red', density=True, alpha=0.7, label='spam')\n",
    "plt.hist(not_spam_data, bins=bins, color='blue', density=True, alpha=0.7, label='not_spam')\n",
    "plt.title('CNT key std')\n",
    "plt.legend()\n",
    "plt.show()"
   ]
  },
  {
   "cell_type": "code",
   "execution_count": 83,
   "metadata": {},
   "outputs": [
    {
     "data": {
      "image/png": "[encoded data removed]",
      "text/plain": [
       "<Figure size 432x288 with 1 Axes>"
      ]
     },
     "metadata": {
      "needs_background": "light"
     },
     "output_type": "display_data"
    }
   ],
   "source": [
    "is_spam_data = df_train.loc[df_train['target'] == '1'][['cnt_key_text_median']]\n",
    "not_spam_data = df_train.loc[df_train['target'] == '0'][['cnt_key_text_median']]\n",
    "bins = range(0, 50, 1)\n",
    "plt.hist(is_spam_data, bins=bins, color='red', density=True, alpha=0.7, label='spam')\n",
    "plt.hist(not_spam_data, bins=bins, color='blue', density=True, alpha=0.7, label='not_spam')\n",
    "plt.title('CNT key median')\n",
    "plt.legend()\n",
    "plt.show()"
   ]
  },
  {
   "cell_type": "code",
   "execution_count": 309,
   "metadata": {},
   "outputs": [
    {
     "data": {
      "image/png": "[encoded data removed]",
      "text/plain": [
       "<Figure size 432x288 with 1 Axes>"
      ]
     },
     "metadata": {
      "needs_background": "light"
     },
     "output_type": "display_data"
    }
   ],
   "source": [
    "is_spam_data = df_train.loc[df_train['target'] == '1'][['cnt_tags']]\n",
    "not_spam_data = df_train.loc[df_train['target'] == '0'][['cnt_tags']]\n",
    "bins = range(0, 1000, 1)\n",
    "plt.hist(is_spam_data, bins=bins, color='red', density=True, alpha=0.7, label='spam')\n",
    "plt.hist(not_spam_data, bins=bins, color='blue', density=True, alpha=0.7, label='not_spam')\n",
    "plt.title('CNT tags')\n",
    "plt.legend()\n",
    "plt.show()"
   ]
  },
  {
   "cell_type": "code",
   "execution_count": null,
   "metadata": {
    "id": "lIQeiApM0BCY"
   },
   "outputs": [],
   "source": [
    "#!pip install catboost"
   ]
  },
  {
   "cell_type": "code",
   "execution_count": 551,
   "metadata": {
    "id": "4v-37py9PCdA"
   },
   "outputs": [],
   "source": [
    "from sklearn.naive_bayes import MultinomialNB\n",
    "from sklearn.model_selection import train_test_split\n",
    "from sklearn.metrics import f1_score\n",
    "from catboost import CatBoostClassifier\n",
    "from sklearn.decomposition import TruncatedSVD\n",
    "import catboost\n",
    "from sklearn.ensemble import RandomForestClassifier"
   ]
  },
  {
   "cell_type": "code",
   "execution_count": 263,
   "metadata": {
    "id": "_Kk2e68gbH2V"
   },
   "outputs": [],
   "source": [
    "X_train, X_test, y_train, y_test = train_test_split(tf_idf_train, df_train['target'], \n",
    "                                                    test_size=0.1, random_state=69, stratify=df_train['target'])"
   ]
  },
  {
   "cell_type": "code",
   "execution_count": 264,
   "metadata": {},
   "outputs": [],
   "source": [
    "from sklearn.svm import LinearSVC\n",
    "from sklearn.metrics import precision_score, recall_score, f1_score"
   ]
  },
  {
   "cell_type": "code",
   "execution_count": 265,
   "metadata": {},
   "outputs": [
    {
     "name": "stdout",
     "output_type": "stream",
     "text": [
      "Precision: 0.978\n",
      "Recall: 0.951\n",
      "F1: 0.959\n",
      "Wall time: 327 ms\n"
     ]
    }
   ],
   "source": [
    "%%time\n",
    "svc_clf = LinearSVC(penalty=\"l2\")\n",
    "svc_clf.fit(X_train, y_train)\n",
    "y_pred_svc = svc_clf.predict(X_test)\n",
    "y_test_l = list(y_test.astype('str'))\n",
    "print(\"Precision: %.3f\" % precision_score(y_test_l, y_pred_svc, pos_label=\"1\"))\n",
    "print(\"Recall: %.3f\" % recall_score(y_test_l, y_pred_svc, pos_label=\"1\"))\n",
    "print(\"F1: %.3f\" % f1_score(y_test_l, y_pred_svc, average='weighted'))"
   ]
  },
  {
   "cell_type": "code",
   "execution_count": 225,
   "metadata": {},
   "outputs": [],
   "source": [
    "X_train_title, X_test_title, \\\n",
    "y_train_title, y_test_title = train_test_split(title_tf_idf_train, df_train['target'], \n",
    "                                               test_size=0.1, random_state=69, stratify=df_train['target'])"
   ]
  },
  {
   "cell_type": "code",
   "execution_count": 227,
   "metadata": {},
   "outputs": [
    {
     "name": "stdout",
     "output_type": "stream",
     "text": [
      "Precision: 0.951\n",
      "Recall: 0.891\n",
      "F1: 0.910\n",
      "Wall time: 48 ms\n"
     ]
    }
   ],
   "source": [
    "%%time\n",
    "svc_clf_title = LinearSVC(penalty=\"l2\")\n",
    "svc_clf_title.fit(X_train_title, y_train_title)\n",
    "y_pred_svc_title = svc_clf_title.predict(X_test_title)\n",
    "y_test_l_title = list(y_test_title.astype('str'))\n",
    "print(\"Precision: %.3f\" % precision_score(y_test_l_title, y_pred_svc_title, pos_label=\"1\"))\n",
    "print(\"Recall: %.3f\" % recall_score(y_test_l_title, y_pred_svc_title, pos_label=\"1\"))\n",
    "print(\"F1: %.3f\" % f1_score(y_test_l_title, y_pred_svc_title, average='weighted'))"
   ]
  },
  {
   "cell_type": "code",
   "execution_count": 266,
   "metadata": {
    "id": "Fho74gI_bTvl"
   },
   "outputs": [],
   "source": [
    "model_nb = MultinomialNB().fit(X_train, y_train)"
   ]
  },
  {
   "cell_type": "code",
   "execution_count": 267,
   "metadata": {
    "colab": {
     "base_uri": "https://localhost:8080/"
    },
    "id": "_AbIyKy4bdHL",
    "outputId": "ac3400cd-7bfc-48a8-97e5-9050a2c8cb3b"
   },
   "outputs": [
    {
     "data": {
      "text/plain": [
       "0.9303711986255727"
      ]
     },
     "execution_count": 267,
     "metadata": {},
     "output_type": "execute_result"
    }
   ],
   "source": [
    "y_pred = model_nb.predict(X_test)\n",
    "f1_score(y_test, y_pred, average='weighted')"
   ]
  },
  {
   "cell_type": "code",
   "execution_count": 268,
   "metadata": {
    "id": "4k1oI5tJegIm"
   },
   "outputs": [],
   "source": [
    "df_train['nb_proba_text'] = model_nb.predict_proba(tf_idf_train)[:, 1]\n",
    "df_train['nb_predict_text'] = model_nb.predict(tf_idf_train)\n",
    "df_train['nb_predict_text'] = df_train['nb_predict_text'].astype(str)"
   ]
  },
  {
   "cell_type": "code",
   "execution_count": 269,
   "metadata": {},
   "outputs": [],
   "source": [
    "df_train['svc_proba_text'] = svc_clf.decision_function(tf_idf_train)\n",
    "df_train['svc_pred_text'] = svc_clf.predict(tf_idf_train)\n",
    "df_train['svc_pred_text'] = df_train['svc_pred_text'].astype(str)"
   ]
  },
  {
   "cell_type": "code",
   "execution_count": 229,
   "metadata": {},
   "outputs": [],
   "source": [
    "df_train['svc_proba_title'] = svc_clf_title.decision_function(title_tf_idf_train)\n",
    "df_train['svc_pred_title'] = svc_clf_title.predict(title_tf_idf_train)\n",
    "df_train['svc_pred_title'] = df_train['svc_pred_title'].astype(str)"
   ]
  },
  {
   "cell_type": "code",
   "execution_count": 270,
   "metadata": {},
   "outputs": [],
   "source": [
    "model_nb_test = MultinomialNB().fit(tf_idf_train, df_train['target'])\n",
    "svc_clf_test = LinearSVC(penalty=\"l2\").fit(tf_idf_train, df_train['target'])"
   ]
  },
  {
   "cell_type": "code",
   "execution_count": 762,
   "metadata": {},
   "outputs": [],
   "source": [
    "svc_clf_title_test = LinearSVC(penalty=\"l2\").fit(title_tf_idf_train, df_train['target'])"
   ]
  },
  {
   "cell_type": "code",
   "execution_count": 271,
   "metadata": {},
   "outputs": [],
   "source": [
    "df_test['nb_proba_text'] = model_nb_test.predict_proba(tf_idf_test)[:, 1]\n",
    "df_test['nb_predict_text'] = model_nb_test.predict(tf_idf_test)\n",
    "df_test['nb_predict_text'] = df_test['nb_predict_text'].astype(str)\n",
    "df_test['svc_proba_text'] = svc_clf_test.decision_function(tf_idf_test)\n",
    "df_test['svc_pred_text'] = svc_clf_test.predict(tf_idf_test)\n",
    "df_test['svc_pred_text'] = df_test['svc_pred_text'].astype(str)"
   ]
  },
  {
   "cell_type": "code",
   "execution_count": 763,
   "metadata": {},
   "outputs": [],
   "source": [
    "df_test['svc_proba_title'] = svc_clf_title_test.decision_function(title_tf_idf_test)\n",
    "df_test['svc_pred_title'] = svc_clf_title_test.predict(title_tf_idf_test)\n",
    "df_test['svc_pred_title'] = df_test['svc_pred_title'].astype(str)"
   ]
  },
  {
   "cell_type": "code",
   "execution_count": 745,
   "metadata": {
    "id": "OOg1I0Gyh8lU"
   },
   "outputs": [],
   "source": [
    "df_X = df_train.copy()\n",
    "df_X = df_X.drop(['title_meta', 'target', 'text', 'title', 'title_meta', 'tokenized_text',\n",
    "                  'keywords', 'description', 'tokenized_title', 'keywords',\n",
    "                  'description',\n",
    "                  'nb_predict_text', 'nb_proba_text'], axis=1)"
   ]
  },
  {
   "cell_type": "markdown",
   "metadata": {},
   "source": [
    "*Без SVC*"
   ]
  },
  {
   "cell_type": "code",
   "execution_count": 783,
   "metadata": {},
   "outputs": [],
   "source": [
    "df_X = df_train.copy()\n",
    "df_X = df_X.drop(['title_meta', 'target', 'text', 'title', 'title_meta', 'tokenized_text',\n",
    "                  'keywords', 'description', 'tokenized_title', 'keywords',\n",
    "                  'description', 'svc_proba_text', 'svc_pred_text',\n",
    "                  'svc_proba_title', 'svc_pred_title'], axis=1)"
   ]
  },
  {
   "cell_type": "code",
   "execution_count": 784,
   "metadata": {
    "id": "jPiWe-O0iwMQ"
   },
   "outputs": [],
   "source": [
    "X_train, X_test, y_train, y_test = train_test_split(df_X, df_train['target'], test_size=0.1, \n",
    "                                                    random_state=69, stratify=df_train['target'])"
   ]
  },
  {
   "cell_type": "code",
   "execution_count": 785,
   "metadata": {},
   "outputs": [],
   "source": [
    "categorical_features_indices = np.where(X_train.dtypes == object)[0]"
   ]
  },
  {
   "cell_type": "code",
   "execution_count": 787,
   "metadata": {},
   "outputs": [],
   "source": [
    "import hyperopt\n",
    "from numpy.random import RandomState"
   ]
  },
  {
   "cell_type": "code",
   "execution_count": 790,
   "metadata": {},
   "outputs": [],
   "source": [
    "params_space = {\n",
    "    'l2_leaf_reg': hyperopt.hp.qloguniform('l2_leaf_reg', 0, 2, 1),\n",
    "    'learning_rate': hyperopt.hp.uniform('learning_rate', 1e-2, 5e-1),\n",
    "    'depth': (1 + hyperopt.hp.uniform('depth', 3, 10)),\n",
    "    'iterations': (1 + hyperopt.hp.uniform('iterations', 4, 50)),\n",
    "    'rsm': hyperopt.hp.uniform('rsm', 0.5, 1),\n",
    "    'border_count': hyperopt.hp.qloguniform('border_count', np.log(32), np.log(255), 1),\n",
    "    #'leaf_estimation_method': hyperopt.hp.choice('leaf_estimation_method', ['Newton', 'Gradient']),\n",
    "    'bagging_temperature': hyperopt.hp.loguniform('bagging_temperature', np.log(1), np.log(3))\n",
    "}\n",
    "\n",
    "trials = hyperopt.Trials()"
   ]
  },
  {
   "cell_type": "code",
   "execution_count": 791,
   "metadata": {},
   "outputs": [],
   "source": [
    "def hyperopt_objective(params):\n",
    "    model = CatBoostClassifier(thread_count=8,\n",
    "                               l2_leaf_reg=int(params['l2_leaf_reg']),\n",
    "                               learning_rate=params['learning_rate'],\n",
    "                               iterations=int(params['iterations']),\n",
    "                               depth=int(params['depth']),\n",
    "                               rsm=params['rsm'],\n",
    "                               border_count=int(params['border_count']),\n",
    "                               #leaf_estimation_method=params['leaf_estimation_method'],\n",
    "                               bagging_temperature=params['bagging_temperature'],\n",
    "                               eval_metric='TotalF1',\n",
    "                               use_best_model=True,\n",
    "                               random_seed=42,\n",
    "                               verbose=False,\n",
    "                               loss_function='Logloss')\n",
    "    cv_data = catboost.cv(\n",
    "        catboost.Pool(X_train, y_train, cat_features=categorical_features_indices),\n",
    "        model.get_params(),\n",
    "        shuffle=True,\n",
    "        fold_count=5,\n",
    "        stratified=True)\n",
    "    best_f1 = np.max(cv_data['test-TotalF1-mean'])\n",
    "    \n",
    "    return 1 - best_f1 # as hyperopt minimises"
   ]
  },
  {
   "cell_type": "code",
   "execution_count": 792,
   "metadata": {},
   "outputs": [
    {
     "name": "stdout",
     "output_type": "stream",
     "text": [
      "\r",
      "  0%|                                                                           | 0/20 [00:00<?, ?trial/s, best loss=?]"
     ]
    },
    {
     "name": "stderr",
     "output_type": "stream",
     "text": [
      "01:53:37 INFO:build_posterior_wrapper took 0.001997 seconds\n",
      "01:53:37 INFO:TPE using 0 trials\n"
     ]
    },
    {
     "name": "stdout",
     "output_type": "stream",
     "text": [
      "\r",
      "  5%|██▎                                            | 1/20 [00:03<01:14,  3.91s/trial, best loss: 0.024603080587338733]"
     ]
    },
    {
     "name": "stderr",
     "output_type": "stream",
     "text": [
      "01:53:41 INFO:build_posterior_wrapper took 0.002999 seconds\n",
      "01:53:41 INFO:TPE using 1/1 trials with best loss 0.024603\n"
     ]
    },
    {
     "name": "stdout",
     "output_type": "stream",
     "text": [
      "\r",
      " 10%|████▋                                          | 2/20 [00:05<00:46,  2.56s/trial, best loss: 0.024603080587338733]"
     ]
    },
    {
     "name": "stderr",
     "output_type": "stream",
     "text": [
      "01:53:42 INFO:build_posterior_wrapper took 0.002999 seconds\n",
      "01:53:42 INFO:TPE using 2/2 trials with best loss 0.024603\n"
     ]
    },
    {
     "name": "stdout",
     "output_type": "stream",
     "text": [
      "\r",
      " 15%|███████                                        | 3/20 [00:05<00:27,  1.59s/trial, best loss: 0.024603080587338733]"
     ]
    },
    {
     "name": "stderr",
     "output_type": "stream",
     "text": [
      "01:53:43 INFO:build_posterior_wrapper took 0.002997 seconds\n",
      "01:53:43 INFO:TPE using 3/3 trials with best loss 0.024603\n"
     ]
    },
    {
     "name": "stdout",
     "output_type": "stream",
     "text": [
      "\r",
      " 20%|█████████▍                                     | 4/20 [00:06<00:18,  1.14s/trial, best loss: 0.024603080587338733]"
     ]
    },
    {
     "name": "stderr",
     "output_type": "stream",
     "text": [
      "01:53:43 INFO:build_posterior_wrapper took 0.003051 seconds\n",
      "01:53:43 INFO:TPE using 4/4 trials with best loss 0.024603\n"
     ]
    },
    {
     "name": "stdout",
     "output_type": "stream",
     "text": [
      "\r",
      " 25%|███████████▊                                   | 5/20 [00:08<00:23,  1.56s/trial, best loss: 0.024603080587338733]"
     ]
    },
    {
     "name": "stderr",
     "output_type": "stream",
     "text": [
      "01:53:45 INFO:build_posterior_wrapper took 0.001998 seconds\n",
      "01:53:45 INFO:TPE using 5/5 trials with best loss 0.024603\n"
     ]
    },
    {
     "name": "stdout",
     "output_type": "stream",
     "text": [
      "\r",
      " 30%|██████████████                                 | 6/20 [00:10<00:22,  1.60s/trial, best loss: 0.024603080587338733]"
     ]
    },
    {
     "name": "stderr",
     "output_type": "stream",
     "text": [
      "01:53:47 INFO:build_posterior_wrapper took 0.002026 seconds\n",
      "01:53:47 INFO:TPE using 6/6 trials with best loss 0.024603\n"
     ]
    },
    {
     "name": "stdout",
     "output_type": "stream",
     "text": [
      "\r",
      " 35%|████████████████▍                              | 7/20 [00:11<00:20,  1.57s/trial, best loss: 0.024603080587338733]"
     ]
    },
    {
     "name": "stderr",
     "output_type": "stream",
     "text": [
      "01:53:49 INFO:build_posterior_wrapper took 0.005999 seconds\n",
      "01:53:49 INFO:TPE using 7/7 trials with best loss 0.024603\n"
     ]
    },
    {
     "name": "stdout",
     "output_type": "stream",
     "text": [
      "\r",
      " 40%|██████████████████▊                            | 8/20 [00:12<00:15,  1.26s/trial, best loss: 0.024603080587338733]"
     ]
    },
    {
     "name": "stderr",
     "output_type": "stream",
     "text": [
      "01:53:49 INFO:build_posterior_wrapper took 0.003000 seconds\n",
      "01:53:49 INFO:TPE using 8/8 trials with best loss 0.024603\n"
     ]
    },
    {
     "name": "stdout",
     "output_type": "stream",
     "text": [
      "\r",
      " 45%|█████████████████████▏                         | 9/20 [00:20<00:36,  3.33s/trial, best loss: 0.024454414479145092]"
     ]
    },
    {
     "name": "stderr",
     "output_type": "stream",
     "text": [
      "01:53:57 INFO:build_posterior_wrapper took 0.002997 seconds\n",
      "01:53:57 INFO:TPE using 9/9 trials with best loss 0.024454\n"
     ]
    },
    {
     "name": "stdout",
     "output_type": "stream",
     "text": [
      "\r",
      " 50%|███████████████████████                       | 10/20 [00:22<00:29,  2.91s/trial, best loss: 0.024454414479145092]"
     ]
    },
    {
     "name": "stderr",
     "output_type": "stream",
     "text": [
      "01:53:59 INFO:build_posterior_wrapper took 0.002035 seconds\n",
      "01:53:59 INFO:TPE using 10/10 trials with best loss 0.024454\n"
     ]
    },
    {
     "name": "stdout",
     "output_type": "stream",
     "text": [
      "\r",
      " 55%|█████████████████████████▎                    | 11/20 [00:24<00:24,  2.73s/trial, best loss: 0.023034106234791962]"
     ]
    },
    {
     "name": "stderr",
     "output_type": "stream",
     "text": [
      "01:54:01 INFO:build_posterior_wrapper took 0.001999 seconds\n",
      "01:54:01 INFO:TPE using 11/11 trials with best loss 0.023034\n"
     ]
    },
    {
     "name": "stdout",
     "output_type": "stream",
     "text": [
      "\r",
      " 60%|███████████████████████████▌                  | 12/20 [00:26<00:18,  2.35s/trial, best loss: 0.023034106234791962]"
     ]
    },
    {
     "name": "stderr",
     "output_type": "stream",
     "text": [
      "01:54:03 INFO:build_posterior_wrapper took 0.005998 seconds\n",
      "01:54:03 INFO:TPE using 12/12 trials with best loss 0.023034\n"
     ]
    },
    {
     "name": "stdout",
     "output_type": "stream",
     "text": [
      "\r",
      " 65%|█████████████████████████████▉                | 13/20 [00:28<00:16,  2.33s/trial, best loss: 0.023034106234791962]"
     ]
    },
    {
     "name": "stderr",
     "output_type": "stream",
     "text": [
      "01:54:05 INFO:build_posterior_wrapper took 0.003003 seconds\n",
      "01:54:05 INFO:TPE using 13/13 trials with best loss 0.023034\n"
     ]
    },
    {
     "name": "stdout",
     "output_type": "stream",
     "text": [
      "\r",
      " 70%|████████████████████████████████▏             | 14/20 [00:32<00:16,  2.79s/trial, best loss: 0.023034106234791962]"
     ]
    },
    {
     "name": "stderr",
     "output_type": "stream",
     "text": [
      "01:54:09 INFO:build_posterior_wrapper took 0.002000 seconds\n",
      "01:54:09 INFO:TPE using 14/14 trials with best loss 0.023034\n"
     ]
    },
    {
     "name": "stdout",
     "output_type": "stream",
     "text": [
      "\r",
      " 75%|██████████████████████████████████▌           | 15/20 [00:34<00:13,  2.64s/trial, best loss: 0.023034106234791962]"
     ]
    },
    {
     "name": "stderr",
     "output_type": "stream",
     "text": [
      "01:54:11 INFO:build_posterior_wrapper took 0.002999 seconds\n",
      "01:54:11 INFO:TPE using 15/15 trials with best loss 0.023034\n"
     ]
    },
    {
     "name": "stdout",
     "output_type": "stream",
     "text": [
      "\r",
      " 80%|████████████████████████████████████▊         | 16/20 [00:35<00:07,  1.98s/trial, best loss: 0.023034106234791962]"
     ]
    },
    {
     "name": "stderr",
     "output_type": "stream",
     "text": [
      "01:54:12 INFO:build_posterior_wrapper took 0.003032 seconds\n",
      "01:54:12 INFO:TPE using 16/16 trials with best loss 0.023034\n"
     ]
    },
    {
     "name": "stdout",
     "output_type": "stream",
     "text": [
      "\r",
      " 85%|███████████████████████████████████████       | 17/20 [00:35<00:04,  1.64s/trial, best loss: 0.023034106234791962]"
     ]
    },
    {
     "name": "stderr",
     "output_type": "stream",
     "text": [
      "01:54:13 INFO:build_posterior_wrapper took 0.003000 seconds\n",
      "01:54:13 INFO:TPE using 17/17 trials with best loss 0.023034\n"
     ]
    },
    {
     "name": "stdout",
     "output_type": "stream",
     "text": [
      "\r",
      " 90%|█████████████████████████████████████████▍    | 18/20 [00:37<00:03,  1.60s/trial, best loss: 0.023034106234791962]"
     ]
    },
    {
     "name": "stderr",
     "output_type": "stream",
     "text": [
      "01:54:14 INFO:build_posterior_wrapper took 0.002997 seconds\n",
      "01:54:14 INFO:TPE using 18/18 trials with best loss 0.023034\n"
     ]
    },
    {
     "name": "stdout",
     "output_type": "stream",
     "text": [
      "\r",
      " 95%|███████████████████████████████████████████▋  | 19/20 [00:38<00:01,  1.52s/trial, best loss: 0.023034106234791962]"
     ]
    },
    {
     "name": "stderr",
     "output_type": "stream",
     "text": [
      "01:54:15 INFO:build_posterior_wrapper took 0.002041 seconds\n",
      "01:54:15 INFO:TPE using 19/19 trials with best loss 0.023034\n"
     ]
    },
    {
     "name": "stdout",
     "output_type": "stream",
     "text": [
      "100%|██████████████████████████████████████████████| 20/20 [00:40<00:00,  2.01s/trial, best loss: 0.023034106234791962]\n"
     ]
    }
   ],
   "source": [
    "best_param = hyperopt.fmin(\n",
    "    hyperopt_objective,\n",
    "    space=params_space,\n",
    "    algo=hyperopt.tpe.suggest,\n",
    "    max_evals=20,\n",
    "    trials=trials,\n",
    "    rstate=RandomState(123)\n",
    ")"
   ]
  },
  {
   "cell_type": "code",
   "execution_count": 793,
   "metadata": {},
   "outputs": [
    {
     "data": {
      "text/plain": [
       "{'bagging_temperature': 1.0397673429420147,\n",
       " 'border_count': 60.0,\n",
       " 'depth': 7.882219755748207,\n",
       " 'iterations': 37.689057053592194,\n",
       " 'l2_leaf_reg': 2.0,\n",
       " 'learning_rate': 0.4951481597096148,\n",
       " 'rsm': 0.5133739717626367}"
      ]
     },
     "execution_count": 793,
     "metadata": {},
     "output_type": "execute_result"
    }
   ],
   "source": [
    "best_param"
   ]
  },
  {
   "cell_type": "code",
   "execution_count": 794,
   "metadata": {},
   "outputs": [
    {
     "data": {
      "text/plain": [
       "<catboost.core.CatBoostClassifier at 0x17ab8ad5e20>"
      ]
     },
     "execution_count": 794,
     "metadata": {},
     "output_type": "execute_result"
    }
   ],
   "source": [
    "model_catboost = CatBoostClassifier(thread_count=8,\n",
    "                                    iterations=int(best_param['iterations']),\n",
    "                                    l2_leaf_reg = int(best_param['l2_leaf_reg']), \n",
    "                                    learning_rate = best_param['learning_rate'],\n",
    "                                    max_depth=int(best_param['depth']),\n",
    "                                    rsm=best_param['rsm'],\n",
    "                                    border_count=int(best_param['border_count']),\n",
    "                                    #leaf_estimation_method=best_param['leaf_estimation_method'],\n",
    "                                    bagging_temperature=best_param['bagging_temperature'])\n",
    "model_catboost.fit(X_train, y_train, cat_features=categorical_features_indices, verbose=False, plot=False)"
   ]
  },
  {
   "cell_type": "code",
   "execution_count": 795,
   "metadata": {
    "colab": {
     "base_uri": "https://localhost:8080/"
    },
    "id": "peksWUGlkOMS",
    "outputId": "c34572d3-f371-4de5-aa54-92bb10bf0f90"
   },
   "outputs": [
    {
     "data": {
      "text/plain": [
       "0.9815733126241821"
      ]
     },
     "execution_count": 795,
     "metadata": {},
     "output_type": "execute_result"
    }
   ],
   "source": [
    "y_pred_cb = model_catboost.predict(X_test)\n",
    "f1_score(y_test, y_pred_cb, average='weighted')"
   ]
  },
  {
   "cell_type": "code",
   "execution_count": 796,
   "metadata": {
    "colab": {
     "base_uri": "https://localhost:8080/"
    },
    "id": "kUKw0LVF8xCP",
    "outputId": "6400421f-6180-48a5-b737-f9367ae86938",
    "scrolled": true
   },
   "outputs": [
    {
     "name": "stdout",
     "output_type": "stream",
     "text": [
      "nb_proba_text: 29.516546352964895\n",
      "nb_predict_text: 7.643686051487729\n",
      "avg_anchor_words_num: 5.598136894284965\n",
      "img_num: 5.427237034913143\n",
      "script_num: 5.382389946820826\n",
      "url_len: 4.109298306892532\n",
      "domain_level: 3.3553888814749544\n",
      "words_num: 3.23702781456917\n",
      "anchor_tags_num: 2.683006168061153\n",
      "keywords_num: 2.6066466332811147\n",
      "avg_word_len: 2.588521544255762\n",
      "cnt_a: 2.4528873832304727\n",
      "cnt_key_text_std: 2.2960703636091293\n",
      "cnt_tags: 2.1574629526698117\n",
      "cnt_href_in: 2.077441803610224\n",
      "compression_level: 2.0584511269120522\n",
      "cnt_key_text_median: 1.8626948663256349\n",
      "cnt_br: 1.606623916602909\n",
      "tf_idf_key_text_std: 1.4066854064169054\n",
      "desc_words_num: 1.3421272385741299\n"
     ]
    }
   ],
   "source": [
    "feature_importances = model_catboost.get_feature_importance()\n",
    "feature_names = X_train.columns\n",
    "for score, name in sorted(zip(feature_importances, feature_names), reverse=True)[:20]:\n",
    "    print('{}: {}'.format(name, score))"
   ]
  },
  {
   "cell_type": "code",
   "execution_count": 732,
   "metadata": {},
   "outputs": [],
   "source": [
    "df_X_test = df_test.copy()\n",
    "df_X_test = df_X_test.drop(['title_meta', 'target', 'text', 'title', 'title_meta', 'tokenized_text',\n",
    "                            'keywords', 'description', 'tokenized_title', 'keywords',\n",
    "                            'description', 'svc_proba_text', 'svc_pred_text'], axis=1)"
   ]
  },
  {
   "cell_type": "code",
   "execution_count": 774,
   "metadata": {},
   "outputs": [
    {
     "data": {
      "text/plain": [
       "<catboost.core.CatBoostClassifier at 0x17ab3453340>"
      ]
     },
     "execution_count": 774,
     "metadata": {},
     "output_type": "execute_result"
    }
   ],
   "source": [
    "model_catboost_test = CatBoostClassifier(thread_count=8,\n",
    "                                         iterations=int(best_param['iterations']),\n",
    "                                         l2_leaf_reg = int(best_param['l2_leaf_reg']), \n",
    "                                         learning_rate = best_param['learning_rate'],\n",
    "                                         max_depth=int(best_param['depth']),\n",
    "                                         rsm=best_param['rsm'],\n",
    "                                         border_count=int(best_param['border_count']),\n",
    "                                         bagging_temperature=best_param['bagging_temperature'])\n",
    "model_catboost_test.fit(df_X, df_train['target'], cat_features=categorical_features_indices, \n",
    "                        verbose=False, plot=False)"
   ]
  },
  {
   "cell_type": "code",
   "execution_count": 775,
   "metadata": {
    "id": "PP7f8j0zwfh3"
   },
   "outputs": [],
   "source": [
    "y_pred_cb = model_catboost_test.predict(df_X_test)"
   ]
  },
  {
   "cell_type": "code",
   "execution_count": 776,
   "metadata": {
    "id": "asBAE64v5d_M"
   },
   "outputs": [],
   "source": [
    "df_X_test['target'] = y_pred_cb"
   ]
  },
  {
   "cell_type": "code",
   "execution_count": 777,
   "metadata": {
    "id": "y-KRCh1I6NAq"
   },
   "outputs": [],
   "source": [
    "df_X_test = df_X_test.rename(columns={\"target\": \"Prediction\"})"
   ]
  },
  {
   "cell_type": "code",
   "execution_count": 778,
   "metadata": {},
   "outputs": [],
   "source": [
    "df_X_test['Id'] = df_X_test.index"
   ]
  },
  {
   "cell_type": "code",
   "execution_count": 779,
   "metadata": {
    "colab": {
     "base_uri": "https://localhost:8080/"
    },
    "id": "tGrOKc1trYE3",
    "outputId": "e20d949a-f766-4b82-eff3-632ac787a525"
   },
   "outputs": [
    {
     "name": "stdout",
     "output_type": "stream",
     "text": [
      "Wall time: 39 ms\n"
     ]
    }
   ],
   "source": [
    "%%time\n",
    "df_X_test[['Id', 'Prediction']].to_csv(\"my_submission.csv\", index=False)"
   ]
  }
 ],
 "metadata": {
  "anaconda-cloud": {},
  "colab": {
   "collapsed_sections": [],
   "name": "AntispamStatsSeminarMultiprocessPy37.ipynb",
   "provenance": []
  },
  "kernelspec": {
   "display_name": "Python 3 (ipykernel)",
   "language": "python",
   "name": "python3"
  },
  "language_info": {
   "codemirror_mode": {
    "name": "ipython",
    "version": 3
   },
   "file_extension": ".py",
   "mimetype": "text/x-python",
   "name": "python",
   "nbconvert_exporter": "python",
   "pygments_lexer": "ipython3",
   "version": "3.8.5"
  }
 },
 "nbformat": 4,
 "nbformat_minor": 1
}
